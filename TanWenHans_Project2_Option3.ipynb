{
 "cells": [
  {
   "cell_type": "markdown",
   "id": "23ac6a95",
   "metadata": {},
   "source": [
    "# Programming Project (option 3) ( Hans)"
   ]
  },
  {
   "cell_type": "code",
   "execution_count": 11,
   "id": "75b1065c",
   "metadata": {},
   "outputs": [
    {
     "name": "stdout",
     "output_type": "stream",
     "text": [
      "It takes 24.0 seconds for hot object to reach 30◦ C\n"
     ]
    }
   ],
   "source": [
    "#parameters for ball\n",
    "heat_coefficient_ball =  8.7\n",
    "area = 0.13\n",
    "mass_ball = 0.1\n",
    "specific_heat_capacity_ball = 385\n",
    "intial_temp_ball = 40\n",
    "\n",
    "#parameters for environment\n",
    "intial_temp_air = 20 \n",
    "mass_air = 0.6\n",
    "specific_heat_capacity_air = 1000\n",
    "\n",
    "#intial temperature diff\n",
    "intial_temp_diff = 20\n",
    "\n",
    "#initial values parameters & time\n",
    "temp_ball = intial_temp_ball\n",
    "temp_air = intial_temp_air\n",
    "temp_diff = intial_temp_diff\n",
    "time = 0.0\n",
    "dt = 1\n",
    "\n",
    "#arrays\n",
    "times = []\n",
    "temps_ball = []\n",
    "temps_air = []\n",
    "diff_temps = []\n",
    "\n",
    "\n",
    "while temp_diff>=0.01:\n",
    "    temp_diff = temp_ball - temp_air\n",
    "\n",
    "    times.append(time)\n",
    "    temps_ball.append(temp_ball)\n",
    "    temps_air.append(temp_air)\n",
    "    diff_temps.append(temp_diff)\n",
    "\n",
    "    heat_transfer_ball = heat_coefficient_ball*area*temp_diff\n",
    "    temp_change_ball = (heat_transfer_ball)/(mass_ball*specific_heat_capacity_ball)\n",
    "    temp_change_air = (heat_transfer_ball)/(mass_air*specific_heat_capacity_air)\n",
    "    \n",
    "    temp_ball -= temp_change_ball\n",
    "    temp_air += temp_change_air\n",
    "    time += dt\n",
    "\n",
    "    if (29.95<temp_ball<30):#included 29.95 as lower bound as it helps ensure that time is after temp_object reaches 30\n",
    "        print(f\"It takes {time} seconds for hot object to reach 30◦ C\")\n",
    "\n",
    "        "
   ]
  },
  {
   "cell_type": "code",
   "execution_count": 12,
   "id": "9a84ae2d",
   "metadata": {},
   "outputs": [
    {
     "data": {
      "text/plain": [
       "<matplotlib.legend.Legend at 0x7f7ff78f5b80>"
      ]
     },
     "execution_count": 12,
     "metadata": {},
     "output_type": "execute_result"
    },
    {
     "data": {
      "image/png": "[encoded data removed]",
      "text/plain": [
       "<Figure size 432x288 with 1 Axes>"
      ]
     },
     "metadata": {
      "needs_background": "light"
     },
     "output_type": "display_data"
    }
   ],
   "source": [
    "import matplotlib.pyplot as plt\n",
    "\n",
    "fig1,ax1 = plt.subplots()\n",
    "\n",
    "ax1.scatter(times , temps_ball, label=\"Temperature Ball\", color=\"C0\", marker='+')\n",
    "ax1.scatter(times , diff_temps , label=\"Difference In Temperature\", color=\"C2\", marker='+')\n",
    "ax1.scatter(times , temps_air , label=\"Temperature Air\", color=\"C3\", marker='+')\n",
    "\n",
    "ax1.set_ylabel(\"Temperature (◦ C)\")\n",
    "ax1.set_xlabel(\"Time\")\n",
    "\n",
    "ax1.legend()"
   ]
  }
 ],
 "metadata": {
  "kernelspec": {
   "display_name": "Python 3 (ipykernel)",
   "language": "python",
   "name": "python3"
  },
  "language_info": {
   "codemirror_mode": {
    "name": "ipython",
    "version": 3
   },
   "file_extension": ".py",
   "mimetype": "text/x-python",
   "name": "python",
   "nbconvert_exporter": "python",
   "pygments_lexer": "ipython3",
   "version": "3.9.12"
  }
 },
 "nbformat": 4,
 "nbformat_minor": 5
}
